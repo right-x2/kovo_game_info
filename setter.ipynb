{
 "metadata": {
  "language_info": {
   "codemirror_mode": {
    "name": "ipython",
    "version": 3
   },
   "file_extension": ".py",
   "mimetype": "text/x-python",
   "name": "python",
   "nbconvert_exporter": "python",
   "pygments_lexer": "ipython3",
   "version": "3.8.5"
  },
  "orig_nbformat": 2,
  "kernelspec": {
   "name": "python3",
   "display_name": "Python 3",
   "language": "python"
  }
 },
 "nbformat": 4,
 "nbformat_minor": 2,
 "cells": [
  {
   "cell_type": "code",
   "execution_count": 1,
   "metadata": {},
   "outputs": [],
   "source": []
  },
  {
   "cell_type": "code",
   "execution_count": 456,
   "metadata": {},
   "outputs": [
    {
     "output_type": "stream",
     "name": "stdout",
     "text": [
      "19939    디우프\n19940    유서연\n19941    고의정\n19942    고의정\n19943    유서연\n19944    디우프\n19945    디우프\n19946    문지윤\n19947    디우프\n19948    문지윤\n19949    디우프\n19950    박혜민\n19951    고민지\n19952    문지윤\n19953    고민지\n19954    강소휘\n19955    강소휘\n19956    디우프\n19957    박은진\n19958    디우프\n19959    고의정\n19960    고의정\n19961    유서연\n19962    디우프\n19963    고의정\n19964    유서연\n19965    나현수\n19966    나현수\n19967    문지윤\n19968    고의정\nName: 공격수, dtype: object\n       공격수\n0       루소\n1      이소영\n2      양효진\n3       러츠\n4       러츠\n...    ...\n19964  유서연\n19965  나현수\n19966  나현수\n19967  문지윤\n19968  고의정\n\n[19969 rows x 1 columns]\n"
     ]
    }
   ],
   "source": [
    "import pandas as pd\n",
    "from sklearn.preprocessing import LabelEncoder\n",
    "set_info = pd.read_csv('/Users/kimjungwoo/Downloads/setter.csv')\n",
    "set_info.head()\n",
    "\n",
    "X = set_info.drop(['공격수','상대팀'],axis =1)\n",
    "y = set_info[['공격수']]\n",
    "\n",
    "print(set_info['공격수'][-30:])\n",
    "\n",
    "\n",
    "print(y)\n",
    "\n",
    "\n",
    "\n"
   ]
  },
  {
   "cell_type": "code",
   "execution_count": 457,
   "metadata": {},
   "outputs": [],
   "source": [
    "col_list = [\"팀\",\"세터\",\"1번\",\"2번\",\"3번\",\"4번\",\"5번\",\"6번\"]\n",
    "\n",
    "idx_list = []\n",
    "\n",
    "for i in range(59):\n",
    "    idx_list.append(i)"
   ]
  },
  {
   "cell_type": "code",
   "execution_count": 458,
   "metadata": {},
   "outputs": [
    {
     "output_type": "error",
     "ename": "SyntaxError",
     "evalue": "invalid syntax (<ipython-input-458-c59b440e74d8>, line 6)",
     "traceback": [
      "\u001b[0;36m  File \u001b[0;32m\"<ipython-input-458-c59b440e74d8>\"\u001b[0;36m, line \u001b[0;32m6\u001b[0m\n\u001b[0;31m    print(le.inverse_transform([for i in range(59)]))\u001b[0m\n\u001b[0m                                ^\u001b[0m\n\u001b[0;31mSyntaxError\u001b[0m\u001b[0;31m:\u001b[0m invalid syntax\n"
     ]
    }
   ],
   "source": [
    "def encoder(box,name):\n",
    "    le = LabelEncoder()\n",
    "    le.fit(box[name])\n",
    "    temp = le.transform(box[name])\n",
    "    if(name==\"공격수\"):\n",
    "        print(le.inverse_transform(idx_list))\n",
    "    return temp"
   ]
  },
  {
   "cell_type": "code",
   "execution_count": 445,
   "metadata": {},
   "outputs": [
    {
     "output_type": "stream",
     "name": "stdout",
     "text": [
      "팀\n세터\n1번\n2번\n3번\n4번\n5번\n6번\n[21 38 33 20 20 21 33 20 21  0]\n"
     ]
    }
   ],
   "source": [
    "\n",
    "for i in col_list:\n",
    "    print(i)\n",
    "    X[i] = encoder(X,i)\n",
    "#y = encoder(y,\"공격수\")\n",
    "#print(X)\n",
    "print(y[])\n"
   ]
  },
  {
   "cell_type": "code",
   "execution_count": 299,
   "metadata": {},
   "outputs": [
    {
     "output_type": "stream",
     "name": "stdout",
     "text": [
      "0        김다인\n1        안혜진\n2        김다인\n3        안혜진\n4        안혜진\n        ... \n19964    안혜진\n19965    하효림\n19966    하효림\n19967    이원정\n19968    하효림\nName: 세터, Length: 19969, dtype: object\n"
     ]
    }
   ],
   "source": []
  },
  {
   "cell_type": "code",
   "execution_count": 425,
   "metadata": {},
   "outputs": [],
   "source": [
    "from sklearn.model_selection import train_test_split\n",
    "\n",
    "X_train, X_test, y_train, y_test = \\\n",
    "train_test_split(X, y, test_size = 0.2, random_state = 13)"
   ]
  },
  {
   "cell_type": "code",
   "execution_count": 426,
   "metadata": {},
   "outputs": [
    {
     "output_type": "execute_result",
     "data": {
      "text/plain": [
       "(array([ 0,  1,  2,  3,  4,  5,  6,  7,  8,  9, 10, 11, 12, 13, 14, 16, 17,\n",
       "        18, 19, 20, 21, 22, 23, 24, 25, 26, 27, 28, 29, 30, 31, 32, 33, 34,\n",
       "        35, 36, 37, 38, 39, 40, 41, 42, 43, 44, 45, 46, 47, 48, 49, 50, 51,\n",
       "        52, 53, 54, 55, 56, 57, 58]),\n",
       " array([ 546,   88,  491,  202,   71,   11,    8,  241,   65,  226,  763,\n",
       "         109,    1,  365,   51,  274,    9, 1391, 1114, 1143,  880,  154,\n",
       "          31,  129,   70,    4,  167,  784,    1,   38,  289,  196,  545,\n",
       "         225,  230,  128,   77,  624,   16,  721,  138,   43,  197,  163,\n",
       "         568,    1,  100,    6,   13,  340,   21, 1023,  370,   18,  183,\n",
       "          40,  239,   34]))"
      ]
     },
     "metadata": {},
     "execution_count": 426
    }
   ],
   "source": [
    "import numpy as np\n",
    "\n",
    "np.unique(y_train, return_counts = True)"
   ]
  },
  {
   "cell_type": "code",
   "execution_count": 454,
   "metadata": {},
   "outputs": [
    {
     "output_type": "execute_result",
     "data": {
      "text/plain": [
       "KNeighborsClassifier(n_neighbors=1)"
      ]
     },
     "metadata": {},
     "execution_count": 454
    }
   ],
   "source": [
    "from sklearn.linear_model import LogisticRegression\n",
    "from sklearn import svm\n",
    "from sklearn.neighbors import KNeighborsClassifier\n",
    "\n",
    "#clf = LogisticRegression()\n",
    "#clf = svm.SVC(gamma = 0.001, C = 100)\n",
    "clf = KNeighborsClassifier(n_neighbors=1)\n",
    "clf.fit(X_train, y_train)"
   ]
  },
  {
   "cell_type": "code",
   "execution_count": 455,
   "metadata": {},
   "outputs": [
    {
     "output_type": "stream",
     "name": "stdout",
     "text": [
      "0.8005007824726135\n[52 52 18 52 18 19 13  3 20 36 57 57 18 20 42 45 52  0 40 16 44 23 35 32\n  2  0  2 57 20 18]\n[52 52 18 52 18 19 13  3 20 36  2 57 18 38 42 45 52  0 14 16 52 23 19 32\n  2  0  2 57 20 18]\n"
     ]
    }
   ],
   "source": [
    "from sklearn.metrics import accuracy_score\n",
    "\n",
    "pred = clf.predict(X_train)\n",
    "print(accuracy_score(y_train, pred))\n",
    "print(pred[-30:])\n",
    "print(y_train[-30:])\n"
   ]
  },
  {
   "cell_type": "code",
   "execution_count": null,
   "metadata": {},
   "outputs": [],
   "source": []
  }
 ]
}