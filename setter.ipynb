{
 "metadata": {
  "language_info": {
   "codemirror_mode": {
    "name": "ipython",
    "version": 3
   },
   "file_extension": ".py",
   "mimetype": "text/x-python",
   "name": "python",
   "nbconvert_exporter": "python",
   "pygments_lexer": "ipython3",
   "version": "3.8.5"
  },
  "orig_nbformat": 2,
  "kernelspec": {
   "name": "python3",
   "display_name": "Python 3",
   "language": "python"
  }
 },
 "nbformat": 4,
 "nbformat_minor": 2,
 "cells": [
  {
   "cell_type": "code",
   "execution_count": 449,
   "metadata": {},
   "outputs": [],
   "source": [
    "col_list = [\"팀\",\"세터\",\"1번\",\"2번\",\"3번\",\"4번\",\"5번\",\"6번\",\"공격수\"]\n",
    "\n",
    "idx_list = []\n",
    "for i in range(10):\n",
    "    idx_list.append(i)"
   ]
  },
  {
   "cell_type": "code",
   "execution_count": 1,
   "metadata": {},
   "outputs": [],
   "source": []
  },
  {
   "cell_type": "code",
   "execution_count": 452,
   "metadata": {},
   "outputs": [
    {
     "output_type": "stream",
     "name": "stdout",
     "text": [
      "      라운드  SET        팀   세터   1번   2번   3번   4번   5번   6번  리시브정확\n0       1    1  KGC인삼공사  염혜선  염혜선  최은지  한송이  디우프  고의정  박은진      0\n1       1    1  KGC인삼공사  염혜선  염혜선  최은지  한송이  디우프  고의정  박은진      0\n2       1    1  KGC인삼공사  염혜선  염혜선  최은지  한송이  디우프  고의정  박은진      0\n3       1    1  KGC인삼공사  염혜선  염혜선  최은지  한송이  디우프  고의정  박은진      1\n4       1    1  KGC인삼공사  염혜선  염혜선  최은지  한송이  디우프  고의정  박은진      1\n...   ...  ...      ...  ...  ...  ...  ...  ...  ...  ...    ...\n3264    6    4  KGC인삼공사  하효림  고민지  박은진  하효림  고의정  나현수  디우프      1\n3265    6    4  KGC인삼공사  하효림  박은진  하효림  고의정  나현수  디우프  고민지      0\n3266    6    4  KGC인삼공사  하효림  박은진  하효림  고의정  나현수  디우프  고민지      1\n3267    6    4  KGC인삼공사  하효림  하효림  고의정  나현수  디우프  고민지  박은진      0\n3268    6    4  KGC인삼공사  하효림  하효림  고의정  나현수  디우프  고민지  박은진      0\n\n[3269 rows x 11 columns]\n"
     ]
    }
   ],
   "source": [
    "import pandas as pd\n",
    "from sklearn.preprocessing import LabelEncoder\n",
    "set_info = pd.read_csv('/Users/kimjungwoo/Downloads/gs_setter.csv')\n",
    "set_info.head()\n",
    "\n",
    "X = set_info.drop(['공격수',\"상대팀\",'상대 2번','상대 3번','상대 4번','상대팀 점수','팀 점수','점수차이'],axis =1)\n",
    "y = set_info[['공격유형']]\n",
    "\n",
    "print(X)\n",
    "\n",
    "\n"
   ]
  },
  {
   "cell_type": "code",
   "execution_count": 453,
   "metadata": {},
   "outputs": [],
   "source": [
    "player_list = []\n",
    "def encoder(box,name):\n",
    "    le = LabelEncoder()\n",
    "    le.fit(box[name])\n",
    "    temp = le.transform(box[name])\n",
    "    if(name==\"공격수\"):\n",
    "        print(le.inverse_transform(idx_list))\n",
    "        p_list = le.inverse_transform(idx_list)\n",
    "        return temp,p_list\n",
    "    return temp"
   ]
  },
  {
   "cell_type": "code",
   "execution_count": 454,
   "metadata": {},
   "outputs": [
    {
     "output_type": "stream",
     "name": "stdout",
     "text": [
      "팀\n세터\n1번\n2번\n3번\n4번\n5번\n6번\n['고민지' '고의정' '나현수' '디우프' '박은진' '이선우' '이예솔' '정호영' '지민경' '채선아' '최은지' '한송이']\n['고민지' '고의정' '나현수' '디우프' '박은진' '이선우' '이예솔' '정호영' '지민경' '채선아' '최은지' '한송이']\n"
     ]
    }
   ],
   "source": [
    "\n",
    "\n",
    "\n",
    "for i in col_list:\n",
    "    print(i)\n",
    "    X[i] = encoder(X,i)\n",
    "y,player_list = encoder(y,\"공격수\")\n",
    "print(player_list)\n",
    "\n"
   ]
  },
  {
   "cell_type": "code",
   "execution_count": 455,
   "metadata": {},
   "outputs": [],
   "source": [
    "from sklearn.model_selection import train_test_split\n",
    "\n",
    "X_train, X_test, y_train, y_test = \\\n",
    "train_test_split(X, y, test_size = 0.25, random_state = 30)\n"
   ]
  },
  {
   "cell_type": "code",
   "execution_count": 456,
   "metadata": {},
   "outputs": [
    {
     "output_type": "execute_result",
     "data": {
      "text/plain": [
       "(array([ 0,  1,  2,  3,  4,  5,  6,  7,  8,  9, 10, 11]),\n",
       " array([  81,  198,    7, 1309,  155,   73,   21,    1,   98,   10,  331,\n",
       "         167]))"
      ]
     },
     "metadata": {},
     "execution_count": 456
    }
   ],
   "source": [
    "import numpy as np\n",
    "np.unique(y_train, return_counts = True)"
   ]
  },
  {
   "cell_type": "code",
   "execution_count": 299,
   "metadata": {},
   "outputs": [
    {
     "output_type": "stream",
     "name": "stdout",
     "text": [
      "0        김다인\n1        안혜진\n2        김다인\n3        안혜진\n4        안혜진\n        ... \n19964    안혜진\n19965    하효림\n19966    하효림\n19967    이원정\n19968    하효림\nName: 세터, Length: 19969, dtype: object\n"
     ]
    }
   ],
   "source": []
  },
  {
   "cell_type": "code",
   "execution_count": 457,
   "metadata": {},
   "outputs": [
    {
     "output_type": "execute_result",
     "data": {
      "text/plain": [
       "KNeighborsClassifier(n_neighbors=16)"
      ]
     },
     "metadata": {},
     "execution_count": 457
    }
   ],
   "source": [
    "from sklearn.linear_model import LogisticRegression\n",
    "from sklearn import svm\n",
    "from sklearn.neighbors import KNeighborsClassifier\n",
    "from sklearn.naive_bayes import GaussianNB\n",
    "\n",
    "#clf = GaussianNB()\n",
    "#clf = LogisticRegression(multi_class=\"multinomial\",solver=\"lbfgs\", C=10, random_state=42)\n",
    "#clf = LogisticRegression()\n",
    "#clf = svm.SVC(gamma = 0.001, C = 100)\n",
    "clf = KNeighborsClassifier(n_neighbors=16)\n",
    "clf.fit(X_train, y_train)"
   ]
  },
  {
   "cell_type": "code",
   "execution_count": 458,
   "metadata": {},
   "outputs": [
    {
     "output_type": "stream",
     "name": "stdout",
     "text": [
      "0.5777233782129743\n[ 3 10 10  3  3  3 10  1  3  3  3  1  3  3  3  3  3 10  3  3  3  3  1  1\n  3  3  8 10  1  3  3  3  3  3  1  3  8  3  3  3]\n[ 4  3  3  3  3 11  3  1 10  3  1  1 11  3 10  3  1 10  3  5  3  1  1  1\n 10  3  8 10  1  8  8  3  3  3  1 11  4  3 10  3]\n['디우프', '최은지', '최은지', '디우프', '디우프', '디우프', '최은지', '고의정', '디우프', '디우프', '디우프', '고의정', '디우프', '디우프', '디우프', '디우프', '디우프', '최은지', '디우프', '디우프', '디우프', '디우프', '고의정', '고의정', '디우프', '디우프', '지민경', '최은지', '고의정', '디우프', '디우프', '디우프', '디우프', '디우프', '고의정', '디우프', '지민경', '디우프', '디우프', '디우프']\n['박은진', '디우프', '디우프', '디우프', '디우프', '한송이', '디우프', '고의정', '최은지', '디우프', '고의정', '고의정', '한송이', '디우프', '최은지', '디우프', '고의정', '최은지', '디우프', '이선우', '디우프', '고의정', '고의정', '고의정', '최은지', '디우프', '지민경', '최은지', '고의정', '지민경', '지민경', '디우프', '디우프', '디우프', '고의정', '한송이', '박은진', '디우프', '최은지', '디우프']\n"
     ]
    }
   ],
   "source": [
    "from sklearn.metrics import accuracy_score\n",
    "\n",
    "pred = clf.predict(X_train)\n",
    "pred_idx = []\n",
    "print(accuracy_score(y_train, pred))\n",
    "print(pred[-40:])\n",
    "print(y_train[-40:])\n",
    "pred_idx = pred[-40:]\n",
    "y_train_idx = y_train[-40:]\n",
    "\n",
    "temp1 = []\n",
    "temp2 = []\n",
    "for i in pred_idx:\n",
    "    temp1.append(player_list[i])\n",
    "\n",
    "for i in y_train_idx:\n",
    "    temp2.append(player_list[i])  \n",
    "\n",
    "print(temp1)\n",
    "print(temp2)\n",
    "\n",
    "#print(player_list)\n"
   ]
  },
  {
   "cell_type": "code",
   "execution_count": 459,
   "metadata": {},
   "outputs": [
    {
     "output_type": "stream",
     "name": "stdout",
     "text": [
      "0.5097799511002445\n고의정  고민지\n이예솔  이예솔\n이선우  이선우\n디우프  디우프\n디우프  디우프\n디우프  한송이\n디우프  디우프\n지민경  박은진\n디우프  고의정\n디우프  한송이\n디우프  디우프\n디우프  한송이\n디우프  디우프\n디우프  한송이\n디우프  최은지\n디우프  한송이\n디우프  박은진\n디우프  디우프\n디우프  디우프\n고의정  디우프\n디우프  디우프\n디우프  디우프\n디우프  지민경\n최은지  디우프\n디우프  최은지\n디우프  고민지\n디우프  최은지\n디우프  디우프\n최은지  박은진\n지민경  디우프\n최은지  디우프\n디우프  디우프\n디우프  박은진\n디우프  디우프\n지민경  지민경\n디우프  디우프\n최은지  최은지\n디우프  이선우\n디우프  디우프\n디우프  디우프\n최은지  한송이\n고의정  고의정\n디우프  이예솔\n디우프  디우프\n디우프  최은지\n디우프  디우프\n고의정  디우프\n디우프  디우프\n디우프  고의정\n디우프  디우프\n"
     ]
    }
   ],
   "source": [
    "from sklearn.metrics import accuracy_score\n",
    "\n",
    "pred = clf.predict(X_test)\n",
    "pred_idx = []\n",
    "print(accuracy_score(y_test, pred))\n",
    "pred_idx = pred[-50:]\n",
    "y_test_idx = y_test[-50:]\n",
    "\n",
    "temp1 = []\n",
    "temp2 = []\n",
    "for i in pred_idx:\n",
    "    temp1.append(player_list[i])\n",
    "\n",
    "for i in y_test_idx:\n",
    "    temp2.append(player_list[i])  \n",
    "\n",
    "for i in range(len(temp1)):\n",
    "    print(f\"{temp1[i]}  {temp2[i]}\")"
   ]
  },
  {
   "cell_type": "code",
   "execution_count": null,
   "metadata": {},
   "outputs": [],
   "source": []
  }
 ]
}